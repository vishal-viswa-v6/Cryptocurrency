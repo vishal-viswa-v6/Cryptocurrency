{
 "cells": [
  {
   "cell_type": "markdown",
   "id": "e34a6922-d4ce-4e61-84b0-46c8c6e3ceab",
   "metadata": {},
   "source": [
    "# Cryptocurrency Fundamentals, Vishal Viswa"
   ]
  },
  {
   "cell_type": "markdown",
   "id": "6119cd40-3634-4478-bd1a-aec387fcf071",
   "metadata": {},
   "source": [
    "### Blockchain Architecture "
   ]
  },
  {
   "cell_type": "markdown",
   "id": "164e090b-c97d-49d5-992b-c8226ed5d075",
   "metadata": {},
   "source": [
    "#### Blockchain architecture is the underlying technical structure that allows a decentralized network of computers to store, verify and update data without a central authority. It is essentially a distributed database where data is grouped into blocks and chained together in a chronological order using cryptographic hashes. "
   ]
  },
  {
   "cell_type": "markdown",
   "id": "edcd8cfd-2727-4bdb-af56-bb09cd471366",
   "metadata": {},
   "source": [
    "#### A blockchain consists of blocks, which is the cointainers that store data and chain, where each block is linked to the previous one via a cryptographic hash. The nodes are independent computers that maintain and validate the blockchain. Consensus mechanism is a method for nodes to agree on the current state of the blockchain without trust. It works through distributed ledgers where every node has full or partial copy of the blockchain, any changes must be verified by the network. Hashing each block containing the hash of the previous block, creating a tamper evident structure, changing one block can lead to all future hashes breaking, making fraud easy to detect. Consensus algorithms are nodes following rules to agree on which new block should be added to the chain. Immutability is once data is on the chain and validated, it is nearly impossible to alter due to cryptographic and economic constraints. "
   ]
  },
  {
   "cell_type": "markdown",
   "id": "e8160cd0-178f-435d-8dfc-ab86edb1408c",
   "metadata": {},
   "source": [
    "### Consensus Mechanisms"
   ]
  },
  {
   "cell_type": "markdown",
   "id": "6a777bfa-dec3-44ac-a10b-f1c6f82c1206",
   "metadata": {},
   "source": [
    "#### A consensus mechanism is a set of rules and processes used by a decentralized network to agree on the state of the blockchain, specifically which new block should be added next. Without a central authority, blochains rely on consensus to prevent double spreading, validate transactions and maintain a single version of truth. Proof of work is a consensus mechanism used by Bitcoin, where miners solve mathematical puzzles and earn the right to append a new block. Proof of Stake, used by ethereum chooses validators to propose and vote on new blocks based on how much crypto they have staked. Delegated proof of stake is when token holders vote for validators to secure their network."
   ]
  },
  {
   "cell_type": "markdown",
   "id": "c41ac7ff-5e8e-4bfb-9b07-f1b8e0b7e540",
   "metadata": {},
   "source": [
    "### Smart Contracts"
   ]
  },
  {
   "cell_type": "markdown",
   "id": "7b292be8-a4b8-4270-9726-a0b7acf415ee",
   "metadata": {},
   "source": [
    "#### Smart contracts are self-executing programs stored on a blockchain that run when predetermined conditions are met. They automate agreements without intermediaries, reducing trust requirements and enabling complex financial logic. Deployed mainly on Ethereum and similar chains, they power decentralized applications (dApps) in areas like lending, trading, and governance. Their code is immutable once deployed, so bugs or vulnerabilities can be permanent unless patched via proxy contracts or upgrades."
   ]
  },
  {
   "cell_type": "markdown",
   "id": "d059f4b3-6a2b-4cbe-9859-99c1d395bff8",
   "metadata": {},
   "source": [
    "### Decentralized Finance (DeFi)"
   ]
  },
  {
   "cell_type": "markdown",
   "id": "dbd7d72d-1c7b-4220-9670-a0bd11fdc6e7",
   "metadata": {},
   "source": [
    "#### DeFi is an ecosystem of financial services built on public blockchains, replacing traditional intermediaries like banks with code. It includes lending protocols, decentralized exchanges, derivatives, and yield farming. Users interact through smart contracts, typically using crypto wallets, retaining full custody of their assets. DeFi platforms aim for permissionless access and composability, but carry high risks due to smart contract bugs, price manipulation, and regulatory uncertainty."
   ]
  },
  {
   "cell_type": "markdown",
   "id": "4ffc6f77-b0fb-48cd-b8d0-5141e152cf53",
   "metadata": {},
   "source": [
    "### Mining / Staking"
   ]
  },
  {
   "cell_type": "markdown",
   "id": "b14cdc4d-a535-448e-8170-efc7f2ddf498",
   "metadata": {},
   "source": [
    "#### Mining is the process of securing PoW-based blockchains (e.g., Bitcoin) by solving computational puzzles to add new blocks and earn rewards. It requires hardware, electricity, and significant investment. Staking, used in PoS systems (e.g., Ethereum), involves locking up tokens to validate blocks and earn rewards, without needing physical hardware. Both systems incentivize honest participation and penalize malicious actors, but differ drastically in energy use and accessibility.\n",
    "\n"
   ]
  },
  {
   "cell_type": "markdown",
   "id": "cabb428f-c22e-45b9-bef7-b9790ead1fe5",
   "metadata": {},
   "source": [
    "### Wallets"
   ]
  },
  {
   "cell_type": "markdown",
   "id": "18379d17-c94e-479d-a610-9d529db0119a",
   "metadata": {},
   "source": [
    "#### Crypto wallets store and manage users’ private and public keys, allowing them to send, receive, and interact with blockchain assets. There are custodial wallets (managed by third parties) and non-custodial wallets (user controls the keys). Software wallets (e.g., MetaMask) offer convenience, while hardware wallets (e.g., Ledger) provide high security. Wallets also interface with dApps and sign transactions, making them essential for both everyday users and DeFi participants.\n",
    "\n"
   ]
  },
  {
   "cell_type": "markdown",
   "id": "1c824b08-9cc0-4ebe-8d75-df4191b91e1a",
   "metadata": {},
   "source": [
    "### Exchanges"
   ]
  },
  {
   "cell_type": "markdown",
   "id": "8a922c04-d575-4b04-921b-db39053eb12f",
   "metadata": {},
   "source": [
    "#### Exchanges enable users to buy, sell, and trade cryptocurrencies. Centralized exchanges (CEXs) like Binance or Coinbase offer deep liquidity and fiat onramps but require trust and KYC. Decentralized exchanges (DEXs) like Uniswap or Curve use smart contracts for peer-to-peer trading, offering transparency and control but facing issues like slippage, gas fees, and front-running (MEV). Some platforms bridge both, offering hybrid models to balance tradeoffs.\n",
    "\n"
   ]
  },
  {
   "cell_type": "markdown",
   "id": "003854a7-eb4c-4c81-8dd1-9ccfe5707f87",
   "metadata": {},
   "source": [
    "### Tokenomics"
   ]
  },
  {
   "cell_type": "markdown",
   "id": "16818e75-d6c2-45ed-9f2e-1e32781b0287",
   "metadata": {},
   "source": [
    "#### Tokenomics refers to the design, distribution, supply mechanics, and incentives surrounding a cryptocurrency or token. It includes elements like total supply, inflation/deflation mechanisms, vesting schedules, utility, governance rights, and how tokens are used within an ecosystem. Strong tokenomics align stakeholder incentives and ensure long-term sustainability, while poor design can lead to inflation, manipulation, or collapse in user trust. It's a critical factor for evaluating crypto projects.\n",
    "\n"
   ]
  },
  {
   "cell_type": "markdown",
   "id": "2fa9f91a-edf7-41f5-9959-5a7769238056",
   "metadata": {},
   "source": [
    "### Key Differences Between Cryptocurrencies\n"
   ]
  },
  {
   "cell_type": "markdown",
   "id": "a6073d6a-d93b-43d5-80a4-50e1332316b7",
   "metadata": {},
   "source": [
    "#### Cryptocurrencies differ by purpose, consensus model, network security, scalability, tokenomics, and smart contract capabilities. Bitcoin is designed as a decentralized store of value and uses PoW. Ethereum supports programmable contracts and decentralized applications. Stablecoins (like USDC) aim for price stability by pegging to fiat. Other tokens (like LINK or UNI) serve utility or governance roles. Understanding these differences is essential for use-case analysis, investing, or building systems."
   ]
  }
 ],
 "metadata": {
  "kernelspec": {
   "display_name": "Python 3 (ipykernel)",
   "language": "python",
   "name": "python3"
  },
  "language_info": {
   "codemirror_mode": {
    "name": "ipython",
    "version": 3
   },
   "file_extension": ".py",
   "mimetype": "text/x-python",
   "name": "python",
   "nbconvert_exporter": "python",
   "pygments_lexer": "ipython3",
   "version": "3.12.7"
  }
 },
 "nbformat": 4,
 "nbformat_minor": 5
}
